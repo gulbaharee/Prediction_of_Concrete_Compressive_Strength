{
  "nbformat": 4,
  "nbformat_minor": 0,
  "metadata": {
    "colab": {
      "provenance": [],
      "collapsed_sections": [
        "M7GgbSKHU3MO"
      ]
    },
    "kernelspec": {
      "name": "python3",
      "display_name": "Python 3"
    },
    "language_info": {
      "name": "python"
    }
  },
  "cells": [
    {
      "cell_type": "code",
      "source": [
        "import pandas as pd\n",
        "import numpy as np\n",
        "import matplotlib.pyplot as plt\n",
        "import seaborn as sb\n",
        "from scipy import stats\n",
        "from sklearn import preprocessing\n",
        "from sklearn.model_selection import train_test_split, cross_val_score\n",
        "from sklearn.metrics import mean_absolute_error, mean_squared_error, r2_score\n",
        "from sklearn.ensemble import RandomForestRegressor\n",
        "from sklearn.tree import DecisionTreeRegressor\n",
        "from xgboost import XGBRegressor"
      ],
      "metadata": {
        "id": "cnLx4kJ2xka2"
      },
      "execution_count": null,
      "outputs": []
    },
    {
      "cell_type": "markdown",
      "source": [
        "**Add dataframe**"
      ],
      "metadata": {
        "id": "0UQPnOdmolRn"
      }
    },
    {
      "cell_type": "code",
      "source": [
        "df = pd.read_csv('/content/drive/MyDrive/CapstoneVeriV3.csv',delimiter=\";\") \n",
        "df.head() #First 5 line from data\n"
      ],
      "metadata": {
        "colab": {
          "base_uri": "https://localhost:8080/",
          "height": 206
        },
        "id": "wdRUNbzIxsOZ",
        "outputId": "4595b07b-d6a1-4a08-d283-263e73cb5613"
      },
      "execution_count": null,
      "outputs": [
        {
          "output_type": "execute_result",
          "data": {
            "text/plain": [
              "   Cement  FlyAsh  Water  Superplasticizer  CoarseAggregate  FineAggregate  \\\n",
              "0   185.7   101.5  166.9               7.5           1006.4          905.4   \n",
              "1   170.7   127.4  161.8               7.8           1090.0          798.5   \n",
              "2   180.7   127.4  166.1               7.8           1090.0          798.6   \n",
              "3   160.7   127.4  162.1               7.8           1090.0          804.0   \n",
              "4   242.1   125.6  184.3               5.7           1057.6          779.3   \n",
              "\n",
              "   Age  Strength  \n",
              "0   90     38.28  \n",
              "1    3     17.11  \n",
              "2   14     23.34  \n",
              "3   28     27.41  \n",
              "4   14     21.91  "
            ],
            "text/html": [
              "\n",
              "  <div id=\"df-3f53f212-4bc4-4a17-884b-55bf9b0715b1\">\n",
              "    <div class=\"colab-df-container\">\n",
              "      <div>\n",
              "<style scoped>\n",
              "    .dataframe tbody tr th:only-of-type {\n",
              "        vertical-align: middle;\n",
              "    }\n",
              "\n",
              "    .dataframe tbody tr th {\n",
              "        vertical-align: top;\n",
              "    }\n",
              "\n",
              "    .dataframe thead th {\n",
              "        text-align: right;\n",
              "    }\n",
              "</style>\n",
              "<table border=\"1\" class=\"dataframe\">\n",
              "  <thead>\n",
              "    <tr style=\"text-align: right;\">\n",
              "      <th></th>\n",
              "      <th>Cement</th>\n",
              "      <th>FlyAsh</th>\n",
              "      <th>Water</th>\n",
              "      <th>Superplasticizer</th>\n",
              "      <th>CoarseAggregate</th>\n",
              "      <th>FineAggregate</th>\n",
              "      <th>Age</th>\n",
              "      <th>Strength</th>\n",
              "    </tr>\n",
              "  </thead>\n",
              "  <tbody>\n",
              "    <tr>\n",
              "      <th>0</th>\n",
              "      <td>185.7</td>\n",
              "      <td>101.5</td>\n",
              "      <td>166.9</td>\n",
              "      <td>7.5</td>\n",
              "      <td>1006.4</td>\n",
              "      <td>905.4</td>\n",
              "      <td>90</td>\n",
              "      <td>38.28</td>\n",
              "    </tr>\n",
              "    <tr>\n",
              "      <th>1</th>\n",
              "      <td>170.7</td>\n",
              "      <td>127.4</td>\n",
              "      <td>161.8</td>\n",
              "      <td>7.8</td>\n",
              "      <td>1090.0</td>\n",
              "      <td>798.5</td>\n",
              "      <td>3</td>\n",
              "      <td>17.11</td>\n",
              "    </tr>\n",
              "    <tr>\n",
              "      <th>2</th>\n",
              "      <td>180.7</td>\n",
              "      <td>127.4</td>\n",
              "      <td>166.1</td>\n",
              "      <td>7.8</td>\n",
              "      <td>1090.0</td>\n",
              "      <td>798.6</td>\n",
              "      <td>14</td>\n",
              "      <td>23.34</td>\n",
              "    </tr>\n",
              "    <tr>\n",
              "      <th>3</th>\n",
              "      <td>160.7</td>\n",
              "      <td>127.4</td>\n",
              "      <td>162.1</td>\n",
              "      <td>7.8</td>\n",
              "      <td>1090.0</td>\n",
              "      <td>804.0</td>\n",
              "      <td>28</td>\n",
              "      <td>27.41</td>\n",
              "    </tr>\n",
              "    <tr>\n",
              "      <th>4</th>\n",
              "      <td>242.1</td>\n",
              "      <td>125.6</td>\n",
              "      <td>184.3</td>\n",
              "      <td>5.7</td>\n",
              "      <td>1057.6</td>\n",
              "      <td>779.3</td>\n",
              "      <td>14</td>\n",
              "      <td>21.91</td>\n",
              "    </tr>\n",
              "  </tbody>\n",
              "</table>\n",
              "</div>\n",
              "      <button class=\"colab-df-convert\" onclick=\"convertToInteractive('df-3f53f212-4bc4-4a17-884b-55bf9b0715b1')\"\n",
              "              title=\"Convert this dataframe to an interactive table.\"\n",
              "              style=\"display:none;\">\n",
              "        \n",
              "  <svg xmlns=\"http://www.w3.org/2000/svg\" height=\"24px\"viewBox=\"0 0 24 24\"\n",
              "       width=\"24px\">\n",
              "    <path d=\"M0 0h24v24H0V0z\" fill=\"none\"/>\n",
              "    <path d=\"M18.56 5.44l.94 2.06.94-2.06 2.06-.94-2.06-.94-.94-2.06-.94 2.06-2.06.94zm-11 1L8.5 8.5l.94-2.06 2.06-.94-2.06-.94L8.5 2.5l-.94 2.06-2.06.94zm10 10l.94 2.06.94-2.06 2.06-.94-2.06-.94-.94-2.06-.94 2.06-2.06.94z\"/><path d=\"M17.41 7.96l-1.37-1.37c-.4-.4-.92-.59-1.43-.59-.52 0-1.04.2-1.43.59L10.3 9.45l-7.72 7.72c-.78.78-.78 2.05 0 2.83L4 21.41c.39.39.9.59 1.41.59.51 0 1.02-.2 1.41-.59l7.78-7.78 2.81-2.81c.8-.78.8-2.07 0-2.86zM5.41 20L4 18.59l7.72-7.72 1.47 1.35L5.41 20z\"/>\n",
              "  </svg>\n",
              "      </button>\n",
              "      \n",
              "  <style>\n",
              "    .colab-df-container {\n",
              "      display:flex;\n",
              "      flex-wrap:wrap;\n",
              "      gap: 12px;\n",
              "    }\n",
              "\n",
              "    .colab-df-convert {\n",
              "      background-color: #E8F0FE;\n",
              "      border: none;\n",
              "      border-radius: 50%;\n",
              "      cursor: pointer;\n",
              "      display: none;\n",
              "      fill: #1967D2;\n",
              "      height: 32px;\n",
              "      padding: 0 0 0 0;\n",
              "      width: 32px;\n",
              "    }\n",
              "\n",
              "    .colab-df-convert:hover {\n",
              "      background-color: #E2EBFA;\n",
              "      box-shadow: 0px 1px 2px rgba(60, 64, 67, 0.3), 0px 1px 3px 1px rgba(60, 64, 67, 0.15);\n",
              "      fill: #174EA6;\n",
              "    }\n",
              "\n",
              "    [theme=dark] .colab-df-convert {\n",
              "      background-color: #3B4455;\n",
              "      fill: #D2E3FC;\n",
              "    }\n",
              "\n",
              "    [theme=dark] .colab-df-convert:hover {\n",
              "      background-color: #434B5C;\n",
              "      box-shadow: 0px 1px 3px 1px rgba(0, 0, 0, 0.15);\n",
              "      filter: drop-shadow(0px 1px 2px rgba(0, 0, 0, 0.3));\n",
              "      fill: #FFFFFF;\n",
              "    }\n",
              "  </style>\n",
              "\n",
              "      <script>\n",
              "        const buttonEl =\n",
              "          document.querySelector('#df-3f53f212-4bc4-4a17-884b-55bf9b0715b1 button.colab-df-convert');\n",
              "        buttonEl.style.display =\n",
              "          google.colab.kernel.accessAllowed ? 'block' : 'none';\n",
              "\n",
              "        async function convertToInteractive(key) {\n",
              "          const element = document.querySelector('#df-3f53f212-4bc4-4a17-884b-55bf9b0715b1');\n",
              "          const dataTable =\n",
              "            await google.colab.kernel.invokeFunction('convertToInteractive',\n",
              "                                                     [key], {});\n",
              "          if (!dataTable) return;\n",
              "\n",
              "          const docLinkHtml = 'Like what you see? Visit the ' +\n",
              "            '<a target=\"_blank\" href=https://colab.research.google.com/notebooks/data_table.ipynb>data table notebook</a>'\n",
              "            + ' to learn more about interactive tables.';\n",
              "          element.innerHTML = '';\n",
              "          dataTable['output_type'] = 'display_data';\n",
              "          await google.colab.output.renderOutput(dataTable, element);\n",
              "          const docLink = document.createElement('div');\n",
              "          docLink.innerHTML = docLinkHtml;\n",
              "          element.appendChild(docLink);\n",
              "        }\n",
              "      </script>\n",
              "    </div>\n",
              "  </div>\n",
              "  "
            ]
          },
          "metadata": {},
          "execution_count": 3
        }
      ]
    },
    {
      "cell_type": "markdown",
      "source": [
        "**Data types**"
      ],
      "metadata": {
        "id": "q0GoZQllowbY"
      }
    },
    {
      "cell_type": "code",
      "source": [
        "df.info()"
      ],
      "metadata": {
        "colab": {
          "base_uri": "https://localhost:8080/"
        },
        "id": "csHrBHrq2vmk",
        "outputId": "1f62fc53-a939-405b-b7f4-06576460b50a"
      },
      "execution_count": null,
      "outputs": [
        {
          "output_type": "stream",
          "name": "stdout",
          "text": [
            "<class 'pandas.core.frame.DataFrame'>\n",
            "RangeIndex: 368 entries, 0 to 367\n",
            "Data columns (total 8 columns):\n",
            " #   Column            Non-Null Count  Dtype  \n",
            "---  ------            --------------  -----  \n",
            " 0   Cement            368 non-null    float64\n",
            " 1   FlyAsh            368 non-null    float64\n",
            " 2   Water             368 non-null    float64\n",
            " 3   Superplasticizer  368 non-null    float64\n",
            " 4   CoarseAggregate   368 non-null    float64\n",
            " 5   FineAggregate     368 non-null    float64\n",
            " 6   Age               368 non-null    int64  \n",
            " 7   Strength          368 non-null    float64\n",
            "dtypes: float64(7), int64(1)\n",
            "memory usage: 23.1 KB\n"
          ]
        }
      ]
    },
    {
      "cell_type": "code",
      "source": [
        "df.isnull().sum() #null check"
      ],
      "metadata": {
        "colab": {
          "base_uri": "https://localhost:8080/"
        },
        "id": "heph79x522Jc",
        "outputId": "667679e0-3560-4dfd-f184-bcf90f530eb9"
      },
      "execution_count": null,
      "outputs": [
        {
          "output_type": "execute_result",
          "data": {
            "text/plain": [
              "Cement              0\n",
              "FlyAsh              0\n",
              "Water               0\n",
              "Superplasticizer    0\n",
              "CoarseAggregate     0\n",
              "FineAggregate       0\n",
              "Age                 0\n",
              "Strength            0\n",
              "dtype: int64"
            ]
          },
          "metadata": {},
          "execution_count": 5
        }
      ]
    },
    {
      "cell_type": "markdown",
      "source": [
        "**Examining the data distribution**"
      ],
      "metadata": {
        "id": "9AFICnruo3DW"
      }
    },
    {
      "cell_type": "code",
      "source": [
        "df.describe().T"
      ],
      "metadata": {
        "colab": {
          "base_uri": "https://localhost:8080/",
          "height": 300
        },
        "id": "w9YcPT-EabNE",
        "outputId": "db26d86f-0fc3-49a5-99b4-bb000ac45e78"
      },
      "execution_count": null,
      "outputs": [
        {
          "output_type": "execute_result",
          "data": {
            "text/plain": [
              "                  count        mean        std     min      25%      50%  \\\n",
              "Cement            368.0  329.424185  94.890475  136.10  275.100  311.250   \n",
              "FlyAsh            368.0   53.646196  59.467745    0.00    0.000    0.000   \n",
              "Water             368.0  182.695380  19.130836  140.00  169.975  186.000   \n",
              "Superplasticizer  368.0    4.382337   5.808848    0.00    0.000    0.000   \n",
              "CoarseAggregate   368.0  998.323913  75.760593  801.00  956.450  994.600   \n",
              "FineAggregate     368.0  778.994293  81.597854   77.60  754.225  784.000   \n",
              "Age               368.0   48.111413  67.367115    1.00    7.000   28.000   \n",
              "Strength          368.0   34.660272  14.681839    6.27   23.210   33.655   \n",
              "\n",
              "                       75%      max  \n",
              "Cement             376.000   540.00  \n",
              "FlyAsh             124.425   168.30  \n",
              "Water              192.000   228.00  \n",
              "Superplasticizer     9.500    28.20  \n",
              "CoarseAggregate   1053.950  1125.00  \n",
              "FineAggregate      822.050   905.40  \n",
              "Age                 56.000   365.00  \n",
              "Strength            42.485    79.99  "
            ],
            "text/html": [
              "\n",
              "  <div id=\"df-c94eacba-ba63-4d5c-82ef-b3c85cae26ef\">\n",
              "    <div class=\"colab-df-container\">\n",
              "      <div>\n",
              "<style scoped>\n",
              "    .dataframe tbody tr th:only-of-type {\n",
              "        vertical-align: middle;\n",
              "    }\n",
              "\n",
              "    .dataframe tbody tr th {\n",
              "        vertical-align: top;\n",
              "    }\n",
              "\n",
              "    .dataframe thead th {\n",
              "        text-align: right;\n",
              "    }\n",
              "</style>\n",
              "<table border=\"1\" class=\"dataframe\">\n",
              "  <thead>\n",
              "    <tr style=\"text-align: right;\">\n",
              "      <th></th>\n",
              "      <th>count</th>\n",
              "      <th>mean</th>\n",
              "      <th>std</th>\n",
              "      <th>min</th>\n",
              "      <th>25%</th>\n",
              "      <th>50%</th>\n",
              "      <th>75%</th>\n",
              "      <th>max</th>\n",
              "    </tr>\n",
              "  </thead>\n",
              "  <tbody>\n",
              "    <tr>\n",
              "      <th>Cement</th>\n",
              "      <td>368.0</td>\n",
              "      <td>329.424185</td>\n",
              "      <td>94.890475</td>\n",
              "      <td>136.10</td>\n",
              "      <td>275.100</td>\n",
              "      <td>311.250</td>\n",
              "      <td>376.000</td>\n",
              "      <td>540.00</td>\n",
              "    </tr>\n",
              "    <tr>\n",
              "      <th>FlyAsh</th>\n",
              "      <td>368.0</td>\n",
              "      <td>53.646196</td>\n",
              "      <td>59.467745</td>\n",
              "      <td>0.00</td>\n",
              "      <td>0.000</td>\n",
              "      <td>0.000</td>\n",
              "      <td>124.425</td>\n",
              "      <td>168.30</td>\n",
              "    </tr>\n",
              "    <tr>\n",
              "      <th>Water</th>\n",
              "      <td>368.0</td>\n",
              "      <td>182.695380</td>\n",
              "      <td>19.130836</td>\n",
              "      <td>140.00</td>\n",
              "      <td>169.975</td>\n",
              "      <td>186.000</td>\n",
              "      <td>192.000</td>\n",
              "      <td>228.00</td>\n",
              "    </tr>\n",
              "    <tr>\n",
              "      <th>Superplasticizer</th>\n",
              "      <td>368.0</td>\n",
              "      <td>4.382337</td>\n",
              "      <td>5.808848</td>\n",
              "      <td>0.00</td>\n",
              "      <td>0.000</td>\n",
              "      <td>0.000</td>\n",
              "      <td>9.500</td>\n",
              "      <td>28.20</td>\n",
              "    </tr>\n",
              "    <tr>\n",
              "      <th>CoarseAggregate</th>\n",
              "      <td>368.0</td>\n",
              "      <td>998.323913</td>\n",
              "      <td>75.760593</td>\n",
              "      <td>801.00</td>\n",
              "      <td>956.450</td>\n",
              "      <td>994.600</td>\n",
              "      <td>1053.950</td>\n",
              "      <td>1125.00</td>\n",
              "    </tr>\n",
              "    <tr>\n",
              "      <th>FineAggregate</th>\n",
              "      <td>368.0</td>\n",
              "      <td>778.994293</td>\n",
              "      <td>81.597854</td>\n",
              "      <td>77.60</td>\n",
              "      <td>754.225</td>\n",
              "      <td>784.000</td>\n",
              "      <td>822.050</td>\n",
              "      <td>905.40</td>\n",
              "    </tr>\n",
              "    <tr>\n",
              "      <th>Age</th>\n",
              "      <td>368.0</td>\n",
              "      <td>48.111413</td>\n",
              "      <td>67.367115</td>\n",
              "      <td>1.00</td>\n",
              "      <td>7.000</td>\n",
              "      <td>28.000</td>\n",
              "      <td>56.000</td>\n",
              "      <td>365.00</td>\n",
              "    </tr>\n",
              "    <tr>\n",
              "      <th>Strength</th>\n",
              "      <td>368.0</td>\n",
              "      <td>34.660272</td>\n",
              "      <td>14.681839</td>\n",
              "      <td>6.27</td>\n",
              "      <td>23.210</td>\n",
              "      <td>33.655</td>\n",
              "      <td>42.485</td>\n",
              "      <td>79.99</td>\n",
              "    </tr>\n",
              "  </tbody>\n",
              "</table>\n",
              "</div>\n",
              "      <button class=\"colab-df-convert\" onclick=\"convertToInteractive('df-c94eacba-ba63-4d5c-82ef-b3c85cae26ef')\"\n",
              "              title=\"Convert this dataframe to an interactive table.\"\n",
              "              style=\"display:none;\">\n",
              "        \n",
              "  <svg xmlns=\"http://www.w3.org/2000/svg\" height=\"24px\"viewBox=\"0 0 24 24\"\n",
              "       width=\"24px\">\n",
              "    <path d=\"M0 0h24v24H0V0z\" fill=\"none\"/>\n",
              "    <path d=\"M18.56 5.44l.94 2.06.94-2.06 2.06-.94-2.06-.94-.94-2.06-.94 2.06-2.06.94zm-11 1L8.5 8.5l.94-2.06 2.06-.94-2.06-.94L8.5 2.5l-.94 2.06-2.06.94zm10 10l.94 2.06.94-2.06 2.06-.94-2.06-.94-.94-2.06-.94 2.06-2.06.94z\"/><path d=\"M17.41 7.96l-1.37-1.37c-.4-.4-.92-.59-1.43-.59-.52 0-1.04.2-1.43.59L10.3 9.45l-7.72 7.72c-.78.78-.78 2.05 0 2.83L4 21.41c.39.39.9.59 1.41.59.51 0 1.02-.2 1.41-.59l7.78-7.78 2.81-2.81c.8-.78.8-2.07 0-2.86zM5.41 20L4 18.59l7.72-7.72 1.47 1.35L5.41 20z\"/>\n",
              "  </svg>\n",
              "      </button>\n",
              "      \n",
              "  <style>\n",
              "    .colab-df-container {\n",
              "      display:flex;\n",
              "      flex-wrap:wrap;\n",
              "      gap: 12px;\n",
              "    }\n",
              "\n",
              "    .colab-df-convert {\n",
              "      background-color: #E8F0FE;\n",
              "      border: none;\n",
              "      border-radius: 50%;\n",
              "      cursor: pointer;\n",
              "      display: none;\n",
              "      fill: #1967D2;\n",
              "      height: 32px;\n",
              "      padding: 0 0 0 0;\n",
              "      width: 32px;\n",
              "    }\n",
              "\n",
              "    .colab-df-convert:hover {\n",
              "      background-color: #E2EBFA;\n",
              "      box-shadow: 0px 1px 2px rgba(60, 64, 67, 0.3), 0px 1px 3px 1px rgba(60, 64, 67, 0.15);\n",
              "      fill: #174EA6;\n",
              "    }\n",
              "\n",
              "    [theme=dark] .colab-df-convert {\n",
              "      background-color: #3B4455;\n",
              "      fill: #D2E3FC;\n",
              "    }\n",
              "\n",
              "    [theme=dark] .colab-df-convert:hover {\n",
              "      background-color: #434B5C;\n",
              "      box-shadow: 0px 1px 3px 1px rgba(0, 0, 0, 0.15);\n",
              "      filter: drop-shadow(0px 1px 2px rgba(0, 0, 0, 0.3));\n",
              "      fill: #FFFFFF;\n",
              "    }\n",
              "  </style>\n",
              "\n",
              "      <script>\n",
              "        const buttonEl =\n",
              "          document.querySelector('#df-c94eacba-ba63-4d5c-82ef-b3c85cae26ef button.colab-df-convert');\n",
              "        buttonEl.style.display =\n",
              "          google.colab.kernel.accessAllowed ? 'block' : 'none';\n",
              "\n",
              "        async function convertToInteractive(key) {\n",
              "          const element = document.querySelector('#df-c94eacba-ba63-4d5c-82ef-b3c85cae26ef');\n",
              "          const dataTable =\n",
              "            await google.colab.kernel.invokeFunction('convertToInteractive',\n",
              "                                                     [key], {});\n",
              "          if (!dataTable) return;\n",
              "\n",
              "          const docLinkHtml = 'Like what you see? Visit the ' +\n",
              "            '<a target=\"_blank\" href=https://colab.research.google.com/notebooks/data_table.ipynb>data table notebook</a>'\n",
              "            + ' to learn more about interactive tables.';\n",
              "          element.innerHTML = '';\n",
              "          dataTable['output_type'] = 'display_data';\n",
              "          await google.colab.output.renderOutput(dataTable, element);\n",
              "          const docLink = document.createElement('div');\n",
              "          docLink.innerHTML = docLinkHtml;\n",
              "          element.appendChild(docLink);\n",
              "        }\n",
              "      </script>\n",
              "    </div>\n",
              "  </div>\n",
              "  "
            ]
          },
          "metadata": {},
          "execution_count": 6
        }
      ]
    },
    {
      "cell_type": "code",
      "source": [
        "df.drop_duplicates(inplace=True) #Duplicate value check"
      ],
      "metadata": {
        "id": "xl38Z0WYelyb"
      },
      "execution_count": null,
      "outputs": []
    },
    {
      "cell_type": "code",
      "source": [
        "fig, ax2 = plt.subplots(4, 2, figsize=(8, 16))\n",
        "sb.distplot(df['Cement'],ax=ax2[0][0])\n",
        "sb.distplot(df['FlyAsh'],ax=ax2[0][1])\n",
        "sb.distplot(df['Water'],ax=ax2[1][0])\n",
        "sb.distplot(df['Superplasticizer'],ax=ax2[1][1])\n",
        "sb.distplot(df['CoarseAggregate'],ax=ax2[2][0])\n",
        "sb.distplot(df['FineAggregate'],ax=ax2[2][1])\n",
        "sb.distplot(df['Age'],ax=ax2[3][0])\n",
        "sb.distplot(df['Strength'],ax=ax2[3][1])\n"
      ],
      "metadata": {
        "colab": {
          "base_uri": "https://localhost:8080/",
          "height": 1000
        },
        "id": "RyF82R_p-gCN",
        "outputId": "f289beb5-ff0e-40a6-bbc2-46bad26d1e57"
      },
      "execution_count": null,
      "outputs": [
        {
          "output_type": "stream",
          "name": "stderr",
          "text": [
            "/usr/local/lib/python3.7/dist-packages/seaborn/distributions.py:2619: FutureWarning: `distplot` is a deprecated function and will be removed in a future version. Please adapt your code to use either `displot` (a figure-level function with similar flexibility) or `histplot` (an axes-level function for histograms).\n",
            "  warnings.warn(msg, FutureWarning)\n",
            "/usr/local/lib/python3.7/dist-packages/seaborn/distributions.py:2619: FutureWarning: `distplot` is a deprecated function and will be removed in a future version. Please adapt your code to use either `displot` (a figure-level function with similar flexibility) or `histplot` (an axes-level function for histograms).\n",
            "  warnings.warn(msg, FutureWarning)\n",
            "/usr/local/lib/python3.7/dist-packages/seaborn/distributions.py:2619: FutureWarning: `distplot` is a deprecated function and will be removed in a future version. Please adapt your code to use either `displot` (a figure-level function with similar flexibility) or `histplot` (an axes-level function for histograms).\n",
            "  warnings.warn(msg, FutureWarning)\n",
            "/usr/local/lib/python3.7/dist-packages/seaborn/distributions.py:2619: FutureWarning: `distplot` is a deprecated function and will be removed in a future version. Please adapt your code to use either `displot` (a figure-level function with similar flexibility) or `histplot` (an axes-level function for histograms).\n",
            "  warnings.warn(msg, FutureWarning)\n",
            "/usr/local/lib/python3.7/dist-packages/seaborn/distributions.py:2619: FutureWarning: `distplot` is a deprecated function and will be removed in a future version. Please adapt your code to use either `displot` (a figure-level function with similar flexibility) or `histplot` (an axes-level function for histograms).\n",
            "  warnings.warn(msg, FutureWarning)\n",
            "/usr/local/lib/python3.7/dist-packages/seaborn/distributions.py:2619: FutureWarning: `distplot` is a deprecated function and will be removed in a future version. Please adapt your code to use either `displot` (a figure-level function with similar flexibility) or `histplot` (an axes-level function for histograms).\n",
            "  warnings.warn(msg, FutureWarning)\n",
            "/usr/local/lib/python3.7/dist-packages/seaborn/distributions.py:2619: FutureWarning: `distplot` is a deprecated function and will be removed in a future version. Please adapt your code to use either `displot` (a figure-level function with similar flexibility) or `histplot` (an axes-level function for histograms).\n",
            "  warnings.warn(msg, FutureWarning)\n",
            "/usr/local/lib/python3.7/dist-packages/seaborn/distributions.py:2619: FutureWarning: `distplot` is a deprecated function and will be removed in a future version. Please adapt your code to use either `displot` (a figure-level function with similar flexibility) or `histplot` (an axes-level function for histograms).\n",
            "  warnings.warn(msg, FutureWarning)\n"
          ]
        },
        {
          "output_type": "execute_result",
          "data": {
            "text/plain": [
              "<matplotlib.axes._subplots.AxesSubplot at 0x7fdf987cd710>"
            ]
          },
          "metadata": {},
          "execution_count": 8
        },
        {
          "output_type": "display_data",
          "data": {
            "text/plain": [
              "<Figure size 576x1152 with 8 Axes>"
            ],
            "image/png": "[encoded data removed]"
          },
          "metadata": {
            "needs_background": "light"
          }
        }
      ]
    },
    {
      "cell_type": "markdown",
      "source": [
        "**Correlation**"
      ],
      "metadata": {
        "id": "1vqHmH9DpMx6"
      }
    },
    {
      "cell_type": "code",
      "source": [
        "df_corr=df.corr()"
      ],
      "metadata": {
        "id": "FiSstXNj2_oh"
      },
      "execution_count": null,
      "outputs": []
    },
    {
      "cell_type": "code",
      "source": [
        "plt.figure(figsize=(14,10))\n",
        "sb.heatmap(df_corr, annot=True, cmap='Blues')\n",
        "plt.show()"
      ],
      "metadata": {
        "id": "9yTHYdIs38s4",
        "colab": {
          "base_uri": "https://localhost:8080/",
          "height": 672
        },
        "outputId": "4053a2a5-27ec-4c89-ecdf-8c66022d414c"
      },
      "execution_count": null,
      "outputs": [
        {
          "output_type": "display_data",
          "data": {
            "text/plain": [
              "<Figure size 1008x720 with 2 Axes>"
            ],
            "image/png": "[encoded data removed]"
          },
          "metadata": {
            "needs_background": "light"
          }
        }
      ]
    },
    {
      "cell_type": "markdown",
      "source": [
        "**Outlier detection and fixing**"
      ],
      "metadata": {
        "id": "kKoWCIPUgcpy"
      }
    },
    {
      "cell_type": "code",
      "source": [
        "data_model=df.copy()\n",
        "data_model.boxplot(figsize=(35,15))"
      ],
      "metadata": {
        "id": "NfPLqqU7C1xR",
        "colab": {
          "base_uri": "https://localhost:8080/",
          "height": 593
        },
        "outputId": "1f2bf9ea-00ac-40fa-c111-0d1da696b3e8"
      },
      "execution_count": null,
      "outputs": [
        {
          "output_type": "execute_result",
          "data": {
            "text/plain": [
              "<matplotlib.axes._subplots.AxesSubplot at 0x7fdf936cd210>"
            ]
          },
          "metadata": {},
          "execution_count": 13
        },
        {
          "output_type": "display_data",
          "data": {
            "text/plain": [
              "<Figure size 2520x1080 with 1 Axes>"
            ],
            "image/png": "[encoded data removed]"
          },
          "metadata": {
            "needs_background": "light"
          }
        }
      ]
    },
    {
      "cell_type": "markdown",
      "source": [
        "**Quantile method and fixing with median value**"
      ],
      "metadata": {
        "id": "bAbTf-G39fWi"
      }
    },
    {
      "cell_type": "code",
      "source": [
        "for col_name in data_model.columns[:-1]:\n",
        "    q1 = data_model[col_name].quantile(0.25)\n",
        "    q3 = data_model[col_name].quantile(0.75)\n",
        "    iqr = q3 - q1\n",
        "    \n",
        "    low = q1-1.5*iqr\n",
        "    high = q3+1.5*iqr\n",
        "    data_model.loc[(data_model[col_name] < low) | (data_model[col_name] > high), col_name] = data_model[col_name].median()"
      ],
      "metadata": {
        "id": "YhT64o1ngvP4"
      },
      "execution_count": null,
      "outputs": []
    },
    {
      "cell_type": "code",
      "source": [
        "data_model.boxplot(figsize=(35,15))"
      ],
      "metadata": {
        "id": "yYyN_wzFhtor",
        "colab": {
          "base_uri": "https://localhost:8080/",
          "height": 593
        },
        "outputId": "cec4375b-1c78-4bf5-8d0c-1a2044aa82b1"
      },
      "execution_count": null,
      "outputs": [
        {
          "output_type": "execute_result",
          "data": {
            "text/plain": [
              "<matplotlib.axes._subplots.AxesSubplot at 0x7fdf93736350>"
            ]
          },
          "metadata": {},
          "execution_count": 15
        },
        {
          "output_type": "display_data",
          "data": {
            "text/plain": [
              "<Figure size 2520x1080 with 1 Axes>"
            ],
            "image/png": "[encoded data removed]"
          },
          "metadata": {
            "needs_background": "light"
          }
        }
      ]
    },
    {
      "cell_type": "markdown",
      "source": [
        "**Data Normalization with Robust Scaler**"
      ],
      "metadata": {
        "id": "5_PyYw1Ht8q6"
      }
    },
    {
      "cell_type": "code",
      "source": [
        "X = data_model.drop(\"Strength\", axis=1)\n",
        "y = data_model[[\"Strength\"]]"
      ],
      "metadata": {
        "id": "KfkwSfrOEN2R"
      },
      "execution_count": null,
      "outputs": []
    },
    {
      "cell_type": "code",
      "source": [
        "rbs = preprocessing.RobustScaler() #robust\n",
        "scaled_X = rbs.fit_transform(X)\n",
        "scaled_Xdf = pd.DataFrame(scaled_X, columns = X.columns)\n",
        "\n",
        "scaled_data = pd.concat([scaled_Xdf, y], axis=1, join=\"inner\")\n",
        "scaled_data.head()"
      ],
      "metadata": {
        "id": "lung6ejUmAEW",
        "colab": {
          "base_uri": "https://localhost:8080/",
          "height": 206
        },
        "outputId": "afc36321-3639-4960-a7cb-f8992b7edd92"
      },
      "execution_count": null,
      "outputs": [
        {
          "output_type": "execute_result",
          "data": {
            "text/plain": [
              "     Cement    FlyAsh     Water  Superplasticizer  CoarseAggregate  \\\n",
              "0 -1.667891  0.815752 -0.867196          0.797872         0.108895   \n",
              "1 -1.868158  1.023910 -1.098751          0.829787         1.010243   \n",
              "2 -1.734646  1.023910 -0.903519          0.829787         1.010243   \n",
              "3 -2.001669  1.023910 -1.085131          0.829787         1.010243   \n",
              "4 -0.914887  1.009443 -0.077185          0.606383         0.660916   \n",
              "\n",
              "   FineAggregate       Age  Strength  \n",
              "0       2.109470  2.952381     38.28  \n",
              "1       0.251955 -1.190476     17.11  \n",
              "2       0.253692 -0.666667     23.34  \n",
              "3       0.347524  0.000000     27.41  \n",
              "4      -0.081668 -0.666667     21.91  "
            ],
            "text/html": [
              "\n",
              "  <div id=\"df-ce56980e-2ff6-43fe-acd0-3681d9e5ef1b\">\n",
              "    <div class=\"colab-df-container\">\n",
              "      <div>\n",
              "<style scoped>\n",
              "    .dataframe tbody tr th:only-of-type {\n",
              "        vertical-align: middle;\n",
              "    }\n",
              "\n",
              "    .dataframe tbody tr th {\n",
              "        vertical-align: top;\n",
              "    }\n",
              "\n",
              "    .dataframe thead th {\n",
              "        text-align: right;\n",
              "    }\n",
              "</style>\n",
              "<table border=\"1\" class=\"dataframe\">\n",
              "  <thead>\n",
              "    <tr style=\"text-align: right;\">\n",
              "      <th></th>\n",
              "      <th>Cement</th>\n",
              "      <th>FlyAsh</th>\n",
              "      <th>Water</th>\n",
              "      <th>Superplasticizer</th>\n",
              "      <th>CoarseAggregate</th>\n",
              "      <th>FineAggregate</th>\n",
              "      <th>Age</th>\n",
              "      <th>Strength</th>\n",
              "    </tr>\n",
              "  </thead>\n",
              "  <tbody>\n",
              "    <tr>\n",
              "      <th>0</th>\n",
              "      <td>-1.667891</td>\n",
              "      <td>0.815752</td>\n",
              "      <td>-0.867196</td>\n",
              "      <td>0.797872</td>\n",
              "      <td>0.108895</td>\n",
              "      <td>2.109470</td>\n",
              "      <td>2.952381</td>\n",
              "      <td>38.28</td>\n",
              "    </tr>\n",
              "    <tr>\n",
              "      <th>1</th>\n",
              "      <td>-1.868158</td>\n",
              "      <td>1.023910</td>\n",
              "      <td>-1.098751</td>\n",
              "      <td>0.829787</td>\n",
              "      <td>1.010243</td>\n",
              "      <td>0.251955</td>\n",
              "      <td>-1.190476</td>\n",
              "      <td>17.11</td>\n",
              "    </tr>\n",
              "    <tr>\n",
              "      <th>2</th>\n",
              "      <td>-1.734646</td>\n",
              "      <td>1.023910</td>\n",
              "      <td>-0.903519</td>\n",
              "      <td>0.829787</td>\n",
              "      <td>1.010243</td>\n",
              "      <td>0.253692</td>\n",
              "      <td>-0.666667</td>\n",
              "      <td>23.34</td>\n",
              "    </tr>\n",
              "    <tr>\n",
              "      <th>3</th>\n",
              "      <td>-2.001669</td>\n",
              "      <td>1.023910</td>\n",
              "      <td>-1.085131</td>\n",
              "      <td>0.829787</td>\n",
              "      <td>1.010243</td>\n",
              "      <td>0.347524</td>\n",
              "      <td>0.000000</td>\n",
              "      <td>27.41</td>\n",
              "    </tr>\n",
              "    <tr>\n",
              "      <th>4</th>\n",
              "      <td>-0.914887</td>\n",
              "      <td>1.009443</td>\n",
              "      <td>-0.077185</td>\n",
              "      <td>0.606383</td>\n",
              "      <td>0.660916</td>\n",
              "      <td>-0.081668</td>\n",
              "      <td>-0.666667</td>\n",
              "      <td>21.91</td>\n",
              "    </tr>\n",
              "  </tbody>\n",
              "</table>\n",
              "</div>\n",
              "      <button class=\"colab-df-convert\" onclick=\"convertToInteractive('df-ce56980e-2ff6-43fe-acd0-3681d9e5ef1b')\"\n",
              "              title=\"Convert this dataframe to an interactive table.\"\n",
              "              style=\"display:none;\">\n",
              "        \n",
              "  <svg xmlns=\"http://www.w3.org/2000/svg\" height=\"24px\"viewBox=\"0 0 24 24\"\n",
              "       width=\"24px\">\n",
              "    <path d=\"M0 0h24v24H0V0z\" fill=\"none\"/>\n",
              "    <path d=\"M18.56 5.44l.94 2.06.94-2.06 2.06-.94-2.06-.94-.94-2.06-.94 2.06-2.06.94zm-11 1L8.5 8.5l.94-2.06 2.06-.94-2.06-.94L8.5 2.5l-.94 2.06-2.06.94zm10 10l.94 2.06.94-2.06 2.06-.94-2.06-.94-.94-2.06-.94 2.06-2.06.94z\"/><path d=\"M17.41 7.96l-1.37-1.37c-.4-.4-.92-.59-1.43-.59-.52 0-1.04.2-1.43.59L10.3 9.45l-7.72 7.72c-.78.78-.78 2.05 0 2.83L4 21.41c.39.39.9.59 1.41.59.51 0 1.02-.2 1.41-.59l7.78-7.78 2.81-2.81c.8-.78.8-2.07 0-2.86zM5.41 20L4 18.59l7.72-7.72 1.47 1.35L5.41 20z\"/>\n",
              "  </svg>\n",
              "      </button>\n",
              "      \n",
              "  <style>\n",
              "    .colab-df-container {\n",
              "      display:flex;\n",
              "      flex-wrap:wrap;\n",
              "      gap: 12px;\n",
              "    }\n",
              "\n",
              "    .colab-df-convert {\n",
              "      background-color: #E8F0FE;\n",
              "      border: none;\n",
              "      border-radius: 50%;\n",
              "      cursor: pointer;\n",
              "      display: none;\n",
              "      fill: #1967D2;\n",
              "      height: 32px;\n",
              "      padding: 0 0 0 0;\n",
              "      width: 32px;\n",
              "    }\n",
              "\n",
              "    .colab-df-convert:hover {\n",
              "      background-color: #E2EBFA;\n",
              "      box-shadow: 0px 1px 2px rgba(60, 64, 67, 0.3), 0px 1px 3px 1px rgba(60, 64, 67, 0.15);\n",
              "      fill: #174EA6;\n",
              "    }\n",
              "\n",
              "    [theme=dark] .colab-df-convert {\n",
              "      background-color: #3B4455;\n",
              "      fill: #D2E3FC;\n",
              "    }\n",
              "\n",
              "    [theme=dark] .colab-df-convert:hover {\n",
              "      background-color: #434B5C;\n",
              "      box-shadow: 0px 1px 3px 1px rgba(0, 0, 0, 0.15);\n",
              "      filter: drop-shadow(0px 1px 2px rgba(0, 0, 0, 0.3));\n",
              "      fill: #FFFFFF;\n",
              "    }\n",
              "  </style>\n",
              "\n",
              "      <script>\n",
              "        const buttonEl =\n",
              "          document.querySelector('#df-ce56980e-2ff6-43fe-acd0-3681d9e5ef1b button.colab-df-convert');\n",
              "        buttonEl.style.display =\n",
              "          google.colab.kernel.accessAllowed ? 'block' : 'none';\n",
              "\n",
              "        async function convertToInteractive(key) {\n",
              "          const element = document.querySelector('#df-ce56980e-2ff6-43fe-acd0-3681d9e5ef1b');\n",
              "          const dataTable =\n",
              "            await google.colab.kernel.invokeFunction('convertToInteractive',\n",
              "                                                     [key], {});\n",
              "          if (!dataTable) return;\n",
              "\n",
              "          const docLinkHtml = 'Like what you see? Visit the ' +\n",
              "            '<a target=\"_blank\" href=https://colab.research.google.com/notebooks/data_table.ipynb>data table notebook</a>'\n",
              "            + ' to learn more about interactive tables.';\n",
              "          element.innerHTML = '';\n",
              "          dataTable['output_type'] = 'display_data';\n",
              "          await google.colab.output.renderOutput(dataTable, element);\n",
              "          const docLink = document.createElement('div');\n",
              "          docLink.innerHTML = docLinkHtml;\n",
              "          element.appendChild(docLink);\n",
              "        }\n",
              "      </script>\n",
              "    </div>\n",
              "  </div>\n",
              "  "
            ]
          },
          "metadata": {},
          "execution_count": 17
        }
      ]
    },
    {
      "cell_type": "code",
      "source": [
        "scaled_data.isnull().sum()"
      ],
      "metadata": {
        "id": "Fdr6XVjrGyLF",
        "colab": {
          "base_uri": "https://localhost:8080/"
        },
        "outputId": "0bfed4e6-edb6-49a7-be9e-f91d9edecb90"
      },
      "execution_count": null,
      "outputs": [
        {
          "output_type": "execute_result",
          "data": {
            "text/plain": [
              "Cement              0\n",
              "FlyAsh              0\n",
              "Water               0\n",
              "Superplasticizer    0\n",
              "CoarseAggregate     0\n",
              "FineAggregate       0\n",
              "Age                 0\n",
              "Strength            0\n",
              "dtype: int64"
            ]
          },
          "metadata": {},
          "execution_count": 18
        }
      ]
    },
    {
      "cell_type": "markdown",
      "source": [
        "**Feature Engineering / Train-Test Split**"
      ],
      "metadata": {
        "id": "xNsj1XNSv2YM"
      }
    },
    {
      "cell_type": "code",
      "source": [
        "X = scaled_data.iloc[:,:-1]  #features \n",
        "y = scaled_data.iloc[:,-1]   #target\n",
        "\n",
        "X_train, X_test, y_train, y_test = train_test_split(X,y, test_size = 0.3, random_state = 123)"
      ],
      "metadata": {
        "id": "QbqXsyKNuFhN"
      },
      "execution_count": null,
      "outputs": []
    },
    {
      "cell_type": "markdown",
      "source": [
        "**Models**\n",
        "\n",
        "Random Forest"
      ],
      "metadata": {
        "id": "TiNlMLa8z2xg"
      }
    },
    {
      "cell_type": "code",
      "source": [
        "#Evaluate method for error values and r2 value\n",
        "def evaluate(y, predictions):\n",
        "    mae = mean_absolute_error(y, predictions)\n",
        "    mse = mean_squared_error(y, predictions)\n",
        "    r_squared = r2_score(y, predictions)\n",
        "    return mae, mse, r_squared"
      ],
      "metadata": {
        "id": "WHVIwY0Vz2dp"
      },
      "execution_count": null,
      "outputs": []
    },
    {
      "cell_type": "code",
      "source": [
        "#dataframe for model results\n",
        "models = pd.DataFrame(columns=[\"Model\", \"MAE\", \"MSE\", \"r2 Score\"])"
      ],
      "metadata": {
        "id": "61Rtz6qr1JH2"
      },
      "execution_count": null,
      "outputs": []
    },
    {
      "cell_type": "code",
      "source": [
        "rfr = RandomForestRegressor()\n",
        "rfr.fit(X_train, y_train)\n",
        "predictions = rfr.predict(X_test)\n",
        "\n",
        "mae, mse, r2 = evaluate(y_test, predictions)\n",
        "print(\"MAE:\", mae)\n",
        "print(\"MSE:\", mse)\n",
        "print(\"r2 Score:\", r2)\n",
        "\n",
        "new_row = {\"Model\": \"RandomForestRegressor\",\"MAE\": mae, \"MSE\": mse, \"r2 Score\": r2}\n",
        "models = models.append(new_row, ignore_index=True)"
      ],
      "metadata": {
        "id": "7x3eAII81NFU",
        "colab": {
          "base_uri": "https://localhost:8080/"
        },
        "outputId": "2ef00d7b-5e03-443c-da62-524a264e440b"
      },
      "execution_count": null,
      "outputs": [
        {
          "output_type": "stream",
          "name": "stdout",
          "text": [
            "MAE: 4.616799362901861\n",
            "MSE: 41.979097282409334\n",
            "r2 Score: 0.7969882324658034\n"
          ]
        }
      ]
    },
    {
      "cell_type": "markdown",
      "source": [
        "# Hyperparameter tuning and model"
      ],
      "metadata": {
        "id": "M7GgbSKHU3MO"
      }
    },
    {
      "cell_type": "code",
      "source": [
        "'''\n",
        "from sklearn.model_selection import GridSearchCV, RepeatedStratifiedKFold\n",
        "\n",
        "rf_model = RandomForestRegressor()\n",
        "\n",
        "rf_params = {\"n_estimators\"      : [20, 50, 100],\n",
        "             \"min_samples_split\" : np.arange(2,10),\n",
        "             \"min_samples_leaf\"  : np.arange(2,10),\n",
        "             \"max_features\"      : np.arange(2,6),\n",
        "             \"max_depth\"         : [5,10,15]}\n",
        "\n",
        "#cv = RepeatedStratifiedKFold(n_splits=10, n_repeats=10, random_state=1)\n",
        "grid_search = GridSearchCV(rf_model, rf_params, cv=5, n_jobs=-1, verbose=2).fit(X_train,y_train)'''\n",
        "\n"
      ],
      "metadata": {
        "id": "p8iLJwAWJ2ba",
        "colab": {
          "base_uri": "https://localhost:8080/"
        },
        "outputId": "148b7d20-a3d7-45af-c21e-8a11838f9cc0"
      },
      "execution_count": null,
      "outputs": [
        {
          "output_type": "execute_result",
          "data": {
            "text/plain": [
              "'\\nfrom sklearn.model_selection import GridSearchCV, RepeatedStratifiedKFold\\n\\nrf_model = RandomForestRegressor()\\n\\nrf_params = {\"n_estimators\"      : [20, 50, 100],\\n             \"min_samples_split\" : np.arange(2,10),\\n             \"min_samples_leaf\"  : np.arange(2,10),\\n             \"max_features\"      : np.arange(2,6),\\n             \"max_depth\"         : [5,10,15]}\\n\\n#cv = RepeatedStratifiedKFold(n_splits=10, n_repeats=10, random_state=1)\\ngrid_search = GridSearchCV(rf_model, rf_params, cv=5, n_jobs=-1, verbose=2).fit(X_train,y_train)'"
            ],
            "application/vnd.google.colaboratory.intrinsic+json": {
              "type": "string"
            }
          },
          "metadata": {},
          "execution_count": 23
        }
      ]
    },
    {
      "cell_type": "code",
      "source": [
        "#grid_search.best_params_"
      ],
      "metadata": {
        "id": "xrtdqYUqOULM"
      },
      "execution_count": null,
      "outputs": []
    },
    {
      "cell_type": "code",
      "source": [
        "#rf_tuned = RandomForestRegressor(**grid_search.best_params_).fit(X_train,y_train)\n",
        "rf_tuned = RandomForestRegressor(max_depth= 10,max_features= 4,min_samples_leaf= 2,min_samples_split= 2,n_estimators= 50).fit(X_train,y_train)"
      ],
      "metadata": {
        "id": "kmxRiTI9OaZ8"
      },
      "execution_count": null,
      "outputs": []
    },
    {
      "cell_type": "code",
      "source": [
        "predictions = rf_tuned.predict(X_test)\n",
        "\n",
        "mae, mse, r2 = evaluate(y_test, predictions)\n",
        "\n",
        "print(\"MAE:\", mae)\n",
        "print(\"MSE:\", mse)\n",
        "print(\"r2 Score:\", r2)"
      ],
      "metadata": {
        "id": "kVNLv1WdOM27",
        "colab": {
          "base_uri": "https://localhost:8080/"
        },
        "outputId": "e5d7913c-d50c-461e-a035-942f0dc86220"
      },
      "execution_count": null,
      "outputs": [
        {
          "output_type": "stream",
          "name": "stdout",
          "text": [
            "MAE: 4.530057747435258\n",
            "MSE: 40.737017331565625\n",
            "r2 Score: 0.8029949563489591\n"
          ]
        }
      ]
    },
    {
      "cell_type": "code",
      "source": [
        "!pip install flaml"
      ],
      "metadata": {
        "id": "aPJbxW-UQjgu",
        "colab": {
          "base_uri": "https://localhost:8080/"
        },
        "outputId": "b50a1b92-36ea-406e-c245-fd95f3e6d15e"
      },
      "execution_count": null,
      "outputs": [
        {
          "output_type": "stream",
          "name": "stdout",
          "text": [
            "Looking in indexes: https://pypi.org/simple, https://us-python.pkg.dev/colab-wheels/public/simple/\n",
            "Collecting flaml\n",
            "  Downloading FLAML-1.0.5-py3-none-any.whl (195 kB)\n",
            "\u001b[K     |████████████████████████████████| 195 kB 8.5 MB/s \n",
            "\u001b[?25hRequirement already satisfied: NumPy>=1.17.0rc1 in /usr/local/lib/python3.7/dist-packages (from flaml) (1.21.6)\n",
            "Requirement already satisfied: scipy>=1.4.1 in /usr/local/lib/python3.7/dist-packages (from flaml) (1.4.1)\n",
            "Requirement already satisfied: pandas>=1.1.4 in /usr/local/lib/python3.7/dist-packages (from flaml) (1.3.5)\n",
            "Requirement already satisfied: xgboost<=1.3.3,>=0.90 in /usr/local/lib/python3.7/dist-packages (from flaml) (0.90)\n",
            "Collecting lightgbm>=2.3.1\n",
            "  Downloading lightgbm-3.3.2-py3-none-manylinux1_x86_64.whl (2.0 MB)\n",
            "\u001b[K     |████████████████████████████████| 2.0 MB 41.3 MB/s \n",
            "\u001b[?25hRequirement already satisfied: scikit-learn>=0.24 in /usr/local/lib/python3.7/dist-packages (from flaml) (1.0.2)\n",
            "Requirement already satisfied: wheel in /usr/local/lib/python3.7/dist-packages (from lightgbm>=2.3.1->flaml) (0.37.1)\n",
            "Requirement already satisfied: python-dateutil>=2.7.3 in /usr/local/lib/python3.7/dist-packages (from pandas>=1.1.4->flaml) (2.8.2)\n",
            "Requirement already satisfied: pytz>=2017.3 in /usr/local/lib/python3.7/dist-packages (from pandas>=1.1.4->flaml) (2022.1)\n",
            "Requirement already satisfied: six>=1.5 in /usr/local/lib/python3.7/dist-packages (from python-dateutil>=2.7.3->pandas>=1.1.4->flaml) (1.15.0)\n",
            "Requirement already satisfied: threadpoolctl>=2.0.0 in /usr/local/lib/python3.7/dist-packages (from scikit-learn>=0.24->flaml) (3.1.0)\n",
            "Requirement already satisfied: joblib>=0.11 in /usr/local/lib/python3.7/dist-packages (from scikit-learn>=0.24->flaml) (1.1.0)\n",
            "Installing collected packages: lightgbm, flaml\n",
            "  Attempting uninstall: lightgbm\n",
            "    Found existing installation: lightgbm 2.2.3\n",
            "    Uninstalling lightgbm-2.2.3:\n",
            "      Successfully uninstalled lightgbm-2.2.3\n",
            "Successfully installed flaml-1.0.5 lightgbm-3.3.2\n"
          ]
        }
      ]
    },
    {
      "cell_type": "code",
      "source": [
        "from flaml import AutoML"
      ],
      "metadata": {
        "id": "T1A6fpVZQmeQ"
      },
      "execution_count": null,
      "outputs": []
    },
    {
      "cell_type": "code",
      "source": [
        "automl = AutoML()\n",
        "automl_settings = {\"metric\":\"r2\",\n",
        "                   \"task\":\"regression\"}\n",
        "automl.fit(X_train, y_train, **automl_settings)"
      ],
      "metadata": {
        "id": "TWoQ0UgfQ2KR",
        "colab": {
          "base_uri": "https://localhost:8080/"
        },
        "outputId": "5466f7ce-e4f1-4216-be24-beebdd59757c"
      },
      "execution_count": null,
      "outputs": [
        {
          "output_type": "stream",
          "name": "stderr",
          "text": [
            "[flaml.automl: 06-08 20:24:09] {2376} INFO - task = regression\n",
            "[flaml.automl: 06-08 20:24:09] {2378} INFO - Data split method: uniform\n",
            "[flaml.automl: 06-08 20:24:09] {2382} INFO - Evaluation method: holdout\n",
            "[flaml.automl: 06-08 20:24:09] {2451} INFO - Minimizing error metric: 1-r2\n",
            "[flaml.automl: 06-08 20:24:09] {2500} WARNING - No search budget is provided via time_budget or max_iter. Training only one model per estimator. To tune hyperparameters for each estimator, please provide budget either via time_budget or max_iter.\n",
            "[flaml.automl: 06-08 20:24:09] {2591} INFO - List of ML learners in AutoML Run: ['lgbm', 'rf', 'xgboost', 'extra_tree', 'xgb_limitdepth']\n",
            "[flaml.automl: 06-08 20:24:09] {2883} INFO - iteration 0, current learner lgbm\n",
            "[flaml.automl: 06-08 20:24:12] {3014} INFO - Estimated sufficient time budget=29619s. Estimated necessary time budget=209s.\n",
            "[flaml.automl: 06-08 20:24:12] {3066} INFO -  at 3.0s,\testimator lgbm's best error=0.1619,\tbest estimator lgbm's best error=0.1619\n",
            "[flaml.automl: 06-08 20:24:12] {2883} INFO - iteration 1, current learner rf\n",
            "[flaml.automl: 06-08 20:24:15] {3066} INFO -  at 6.3s,\testimator rf's best error=0.1933,\tbest estimator lgbm's best error=0.1619\n",
            "[flaml.automl: 06-08 20:24:15] {2883} INFO - iteration 2, current learner xgboost\n",
            "[flaml.automl: 06-08 20:25:02] {3066} INFO -  at 53.3s,\testimator xgboost's best error=0.1505,\tbest estimator xgboost's best error=0.1505\n",
            "[flaml.automl: 06-08 20:25:02] {2883} INFO - iteration 3, current learner extra_tree\n",
            "[flaml.automl: 06-08 20:25:06] {3066} INFO -  at 57.1s,\testimator extra_tree's best error=0.1813,\tbest estimator xgboost's best error=0.1505\n",
            "[flaml.automl: 06-08 20:25:06] {2883} INFO - iteration 4, current learner xgb_limitdepth\n",
            "[flaml.automl: 06-08 20:25:11] {3066} INFO -  at 62.1s,\testimator xgb_limitdepth's best error=0.1016,\tbest estimator xgb_limitdepth's best error=0.1016\n",
            "[flaml.automl: 06-08 20:25:17] {3322} INFO - retrain xgb_limitdepth for 5.5s\n",
            "[flaml.automl: 06-08 20:25:17] {3327} INFO - retrained model: XGBRegressor(colsample_bylevel=1.0, colsample_bytree=0.8826299329274134,\n",
            "             learning_rate=0.0010837437950202355, max_depth=11,\n",
            "             min_child_weight=6.468007279782032, n_estimators=19722, n_jobs=-1,\n",
            "             reg_alpha=0.23887161121959208, reg_lambda=15.163773888208217,\n",
            "             subsample=0.49509562408032115, use_label_encoder=False,\n",
            "             verbosity=0)\n",
            "[flaml.automl: 06-08 20:25:17] {2622} INFO - fit succeeded\n",
            "[flaml.automl: 06-08 20:25:17] {2624} INFO - Time taken to find the best model: 62.078622817993164\n"
          ]
        }
      ]
    },
    {
      "cell_type": "code",
      "source": [
        "automl.model.estimator"
      ],
      "metadata": {
        "id": "NGqC8u-wR7Sm",
        "colab": {
          "base_uri": "https://localhost:8080/"
        },
        "outputId": "7461943b-48c0-45c8-9ec1-7d14401ddc06"
      },
      "execution_count": null,
      "outputs": [
        {
          "output_type": "execute_result",
          "data": {
            "text/plain": [
              "XGBRegressor(colsample_bylevel=1.0, colsample_bytree=0.8826299329274134,\n",
              "             learning_rate=0.0010837437950202355, max_depth=11,\n",
              "             min_child_weight=6.468007279782032, n_estimators=19722, n_jobs=-1,\n",
              "             reg_alpha=0.23887161121959208, reg_lambda=15.163773888208217,\n",
              "             subsample=0.49509562408032115, use_label_encoder=False,\n",
              "             verbosity=0)"
            ]
          },
          "metadata": {},
          "execution_count": 30
        }
      ]
    },
    {
      "cell_type": "code",
      "source": [
        "predictions = automl.predict(X_test)"
      ],
      "metadata": {
        "id": "8gn6XfuVTnDU"
      },
      "execution_count": null,
      "outputs": []
    },
    {
      "cell_type": "code",
      "source": [
        "mae, mse, r2 = evaluate(y_test, predictions)\n",
        "#rmse = rmse_cv(automl)"
      ],
      "metadata": {
        "id": "V9CPTFC7RzJ_"
      },
      "execution_count": null,
      "outputs": []
    },
    {
      "cell_type": "code",
      "source": [
        "print(\"MAE:\", mae)\n",
        "print(\"MSE:\", mse)\n",
        "print(\"r2 Score:\", r2)"
      ],
      "metadata": {
        "id": "m0ME2XnZSEzs",
        "colab": {
          "base_uri": "https://localhost:8080/"
        },
        "outputId": "1cf87a51-e4ed-4bb5-e71b-151e24e27e8b"
      },
      "execution_count": null,
      "outputs": [
        {
          "output_type": "stream",
          "name": "stdout",
          "text": [
            "MAE: 4.2661632812774934\n",
            "MSE: 35.776251665037854\n",
            "r2 Score: 0.826985319922279\n"
          ]
        }
      ]
    },
    {
      "cell_type": "markdown",
      "source": [
        "Experimetal Results"
      ],
      "metadata": {
        "id": "pc5V9OGBBsTn"
      }
    },
    {
      "cell_type": "code",
      "source": [
        "df_exp = pd.read_csv('/content/drive/MyDrive/CapstoneDeney.csv',delimiter=\";\")\n",
        "df_exp.head()"
      ],
      "metadata": {
        "id": "lpKd_O_RBvAS",
        "colab": {
          "base_uri": "https://localhost:8080/"
        },
        "outputId": "d0e47011-c76d-48cc-b752-753181c4ace6"
      },
      "execution_count": null,
      "outputs": [
        {
          "output_type": "execute_result",
          "data": {
            "text/plain": [
              "   Cement  FlyAsh  Water  Superplasticizer  CoarseAggregate  FineAggregate  \\\n",
              "0     380       0    228                 0              932            670   \n",
              "1     380       0    228                 0              932            670   \n",
              "2     380       0    228                 0              932            670   \n",
              "3     500       0    200                 3             1120            613   \n",
              "4     500       0    200                 3             1120            613   \n",
              "\n",
              "   Age  Strength  \n",
              "0    7     15.78  \n",
              "1   14     25.77  \n",
              "2   28     29.54  \n",
              "3    7     39.60  \n",
              "4   14     42.67  "
            ],
            "text/html": [
              "\n",
              "  <div id=\"df-f63fde4e-9553-4607-a33e-55840b6218f6\">\n",
              "    <div class=\"colab-df-container\">\n",
              "      <div>\n",
              "<style scoped>\n",
              "    .dataframe tbody tr th:only-of-type {\n",
              "        vertical-align: middle;\n",
              "    }\n",
              "\n",
              "    .dataframe tbody tr th {\n",
              "        vertical-align: top;\n",
              "    }\n",
              "\n",
              "    .dataframe thead th {\n",
              "        text-align: right;\n",
              "    }\n",
              "</style>\n",
              "<table border=\"1\" class=\"dataframe\">\n",
              "  <thead>\n",
              "    <tr style=\"text-align: right;\">\n",
              "      <th></th>\n",
              "      <th>Cement</th>\n",
              "      <th>FlyAsh</th>\n",
              "      <th>Water</th>\n",
              "      <th>Superplasticizer</th>\n",
              "      <th>CoarseAggregate</th>\n",
              "      <th>FineAggregate</th>\n",
              "      <th>Age</th>\n",
              "      <th>Strength</th>\n",
              "    </tr>\n",
              "  </thead>\n",
              "  <tbody>\n",
              "    <tr>\n",
              "      <th>0</th>\n",
              "      <td>380</td>\n",
              "      <td>0</td>\n",
              "      <td>228</td>\n",
              "      <td>0</td>\n",
              "      <td>932</td>\n",
              "      <td>670</td>\n",
              "      <td>7</td>\n",
              "      <td>15.78</td>\n",
              "    </tr>\n",
              "    <tr>\n",
              "      <th>1</th>\n",
              "      <td>380</td>\n",
              "      <td>0</td>\n",
              "      <td>228</td>\n",
              "      <td>0</td>\n",
              "      <td>932</td>\n",
              "      <td>670</td>\n",
              "      <td>14</td>\n",
              "      <td>25.77</td>\n",
              "    </tr>\n",
              "    <tr>\n",
              "      <th>2</th>\n",
              "      <td>380</td>\n",
              "      <td>0</td>\n",
              "      <td>228</td>\n",
              "      <td>0</td>\n",
              "      <td>932</td>\n",
              "      <td>670</td>\n",
              "      <td>28</td>\n",
              "      <td>29.54</td>\n",
              "    </tr>\n",
              "    <tr>\n",
              "      <th>3</th>\n",
              "      <td>500</td>\n",
              "      <td>0</td>\n",
              "      <td>200</td>\n",
              "      <td>3</td>\n",
              "      <td>1120</td>\n",
              "      <td>613</td>\n",
              "      <td>7</td>\n",
              "      <td>39.60</td>\n",
              "    </tr>\n",
              "    <tr>\n",
              "      <th>4</th>\n",
              "      <td>500</td>\n",
              "      <td>0</td>\n",
              "      <td>200</td>\n",
              "      <td>3</td>\n",
              "      <td>1120</td>\n",
              "      <td>613</td>\n",
              "      <td>14</td>\n",
              "      <td>42.67</td>\n",
              "    </tr>\n",
              "  </tbody>\n",
              "</table>\n",
              "</div>\n",
              "      <button class=\"colab-df-convert\" onclick=\"convertToInteractive('df-f63fde4e-9553-4607-a33e-55840b6218f6')\"\n",
              "              title=\"Convert this dataframe to an interactive table.\"\n",
              "              style=\"display:none;\">\n",
              "        \n",
              "  <svg xmlns=\"http://www.w3.org/2000/svg\" height=\"24px\"viewBox=\"0 0 24 24\"\n",
              "       width=\"24px\">\n",
              "    <path d=\"M0 0h24v24H0V0z\" fill=\"none\"/>\n",
              "    <path d=\"M18.56 5.44l.94 2.06.94-2.06 2.06-.94-2.06-.94-.94-2.06-.94 2.06-2.06.94zm-11 1L8.5 8.5l.94-2.06 2.06-.94-2.06-.94L8.5 2.5l-.94 2.06-2.06.94zm10 10l.94 2.06.94-2.06 2.06-.94-2.06-.94-.94-2.06-.94 2.06-2.06.94z\"/><path d=\"M17.41 7.96l-1.37-1.37c-.4-.4-.92-.59-1.43-.59-.52 0-1.04.2-1.43.59L10.3 9.45l-7.72 7.72c-.78.78-.78 2.05 0 2.83L4 21.41c.39.39.9.59 1.41.59.51 0 1.02-.2 1.41-.59l7.78-7.78 2.81-2.81c.8-.78.8-2.07 0-2.86zM5.41 20L4 18.59l7.72-7.72 1.47 1.35L5.41 20z\"/>\n",
              "  </svg>\n",
              "      </button>\n",
              "      \n",
              "  <style>\n",
              "    .colab-df-container {\n",
              "      display:flex;\n",
              "      flex-wrap:wrap;\n",
              "      gap: 12px;\n",
              "    }\n",
              "\n",
              "    .colab-df-convert {\n",
              "      background-color: #E8F0FE;\n",
              "      border: none;\n",
              "      border-radius: 50%;\n",
              "      cursor: pointer;\n",
              "      display: none;\n",
              "      fill: #1967D2;\n",
              "      height: 32px;\n",
              "      padding: 0 0 0 0;\n",
              "      width: 32px;\n",
              "    }\n",
              "\n",
              "    .colab-df-convert:hover {\n",
              "      background-color: #E2EBFA;\n",
              "      box-shadow: 0px 1px 2px rgba(60, 64, 67, 0.3), 0px 1px 3px 1px rgba(60, 64, 67, 0.15);\n",
              "      fill: #174EA6;\n",
              "    }\n",
              "\n",
              "    [theme=dark] .colab-df-convert {\n",
              "      background-color: #3B4455;\n",
              "      fill: #D2E3FC;\n",
              "    }\n",
              "\n",
              "    [theme=dark] .colab-df-convert:hover {\n",
              "      background-color: #434B5C;\n",
              "      box-shadow: 0px 1px 3px 1px rgba(0, 0, 0, 0.15);\n",
              "      filter: drop-shadow(0px 1px 2px rgba(0, 0, 0, 0.3));\n",
              "      fill: #FFFFFF;\n",
              "    }\n",
              "  </style>\n",
              "\n",
              "      <script>\n",
              "        const buttonEl =\n",
              "          document.querySelector('#df-f63fde4e-9553-4607-a33e-55840b6218f6 button.colab-df-convert');\n",
              "        buttonEl.style.display =\n",
              "          google.colab.kernel.accessAllowed ? 'block' : 'none';\n",
              "\n",
              "        async function convertToInteractive(key) {\n",
              "          const element = document.querySelector('#df-f63fde4e-9553-4607-a33e-55840b6218f6');\n",
              "          const dataTable =\n",
              "            await google.colab.kernel.invokeFunction('convertToInteractive',\n",
              "                                                     [key], {});\n",
              "          if (!dataTable) return;\n",
              "\n",
              "          const docLinkHtml = 'Like what you see? Visit the ' +\n",
              "            '<a target=\"_blank\" href=https://colab.research.google.com/notebooks/data_table.ipynb>data table notebook</a>'\n",
              "            + ' to learn more about interactive tables.';\n",
              "          element.innerHTML = '';\n",
              "          dataTable['output_type'] = 'display_data';\n",
              "          await google.colab.output.renderOutput(dataTable, element);\n",
              "          const docLink = document.createElement('div');\n",
              "          docLink.innerHTML = docLinkHtml;\n",
              "          element.appendChild(docLink);\n",
              "        }\n",
              "      </script>\n",
              "    </div>\n",
              "  </div>\n",
              "  "
            ]
          },
          "metadata": {},
          "execution_count": 34
        }
      ]
    },
    {
      "cell_type": "code",
      "source": [
        "X = df_exp.drop(\"Strength\", axis=1)\n",
        "y = df_exp[[\"Strength\"]]"
      ],
      "metadata": {
        "id": "tEN9pCtoCamU"
      },
      "execution_count": null,
      "outputs": []
    },
    {
      "cell_type": "code",
      "source": [
        "rbs = preprocessing.RobustScaler() #robust\n",
        "scaled_X = rbs.fit_transform(X)\n",
        "scaled_Xdf = pd.DataFrame(scaled_X, columns = X.columns)\n",
        "\n",
        "scaled_data = pd.concat([scaled_Xdf, y], axis=1)\n",
        "scaled_data.head()"
      ],
      "metadata": {
        "id": "62DKG797CkO2",
        "colab": {
          "base_uri": "https://localhost:8080/"
        },
        "outputId": "3ec90197-56c0-497d-b079-120b85456cb5"
      },
      "execution_count": null,
      "outputs": [
        {
          "output_type": "execute_result",
          "data": {
            "text/plain": [
              "     Cement  FlyAsh     Water  Superplasticizer  CoarseAggregate  \\\n",
              "0 -0.380952     0.0  0.826087            -0.375        -0.309751   \n",
              "1 -0.380952     0.0  0.826087            -0.375        -0.309751   \n",
              "2 -0.380952     0.0  0.826087            -0.375        -0.309751   \n",
              "3  1.251701     0.0 -0.391304             0.375         1.128107   \n",
              "4  1.251701     0.0 -0.391304             0.375         1.128107   \n",
              "\n",
              "   FineAggregate       Age  Strength  \n",
              "0      -0.371212 -0.333333     15.78  \n",
              "1      -0.371212  0.000000     25.77  \n",
              "2      -0.371212  0.666667     29.54  \n",
              "3      -1.234848 -0.333333     39.60  \n",
              "4      -1.234848  0.000000     42.67  "
            ],
            "text/html": [
              "\n",
              "  <div id=\"df-ef93ba06-cb13-4659-b7c7-d6ff8050eebc\">\n",
              "    <div class=\"colab-df-container\">\n",
              "      <div>\n",
              "<style scoped>\n",
              "    .dataframe tbody tr th:only-of-type {\n",
              "        vertical-align: middle;\n",
              "    }\n",
              "\n",
              "    .dataframe tbody tr th {\n",
              "        vertical-align: top;\n",
              "    }\n",
              "\n",
              "    .dataframe thead th {\n",
              "        text-align: right;\n",
              "    }\n",
              "</style>\n",
              "<table border=\"1\" class=\"dataframe\">\n",
              "  <thead>\n",
              "    <tr style=\"text-align: right;\">\n",
              "      <th></th>\n",
              "      <th>Cement</th>\n",
              "      <th>FlyAsh</th>\n",
              "      <th>Water</th>\n",
              "      <th>Superplasticizer</th>\n",
              "      <th>CoarseAggregate</th>\n",
              "      <th>FineAggregate</th>\n",
              "      <th>Age</th>\n",
              "      <th>Strength</th>\n",
              "    </tr>\n",
              "  </thead>\n",
              "  <tbody>\n",
              "    <tr>\n",
              "      <th>0</th>\n",
              "      <td>-0.380952</td>\n",
              "      <td>0.0</td>\n",
              "      <td>0.826087</td>\n",
              "      <td>-0.375</td>\n",
              "      <td>-0.309751</td>\n",
              "      <td>-0.371212</td>\n",
              "      <td>-0.333333</td>\n",
              "      <td>15.78</td>\n",
              "    </tr>\n",
              "    <tr>\n",
              "      <th>1</th>\n",
              "      <td>-0.380952</td>\n",
              "      <td>0.0</td>\n",
              "      <td>0.826087</td>\n",
              "      <td>-0.375</td>\n",
              "      <td>-0.309751</td>\n",
              "      <td>-0.371212</td>\n",
              "      <td>0.000000</td>\n",
              "      <td>25.77</td>\n",
              "    </tr>\n",
              "    <tr>\n",
              "      <th>2</th>\n",
              "      <td>-0.380952</td>\n",
              "      <td>0.0</td>\n",
              "      <td>0.826087</td>\n",
              "      <td>-0.375</td>\n",
              "      <td>-0.309751</td>\n",
              "      <td>-0.371212</td>\n",
              "      <td>0.666667</td>\n",
              "      <td>29.54</td>\n",
              "    </tr>\n",
              "    <tr>\n",
              "      <th>3</th>\n",
              "      <td>1.251701</td>\n",
              "      <td>0.0</td>\n",
              "      <td>-0.391304</td>\n",
              "      <td>0.375</td>\n",
              "      <td>1.128107</td>\n",
              "      <td>-1.234848</td>\n",
              "      <td>-0.333333</td>\n",
              "      <td>39.60</td>\n",
              "    </tr>\n",
              "    <tr>\n",
              "      <th>4</th>\n",
              "      <td>1.251701</td>\n",
              "      <td>0.0</td>\n",
              "      <td>-0.391304</td>\n",
              "      <td>0.375</td>\n",
              "      <td>1.128107</td>\n",
              "      <td>-1.234848</td>\n",
              "      <td>0.000000</td>\n",
              "      <td>42.67</td>\n",
              "    </tr>\n",
              "  </tbody>\n",
              "</table>\n",
              "</div>\n",
              "      <button class=\"colab-df-convert\" onclick=\"convertToInteractive('df-ef93ba06-cb13-4659-b7c7-d6ff8050eebc')\"\n",
              "              title=\"Convert this dataframe to an interactive table.\"\n",
              "              style=\"display:none;\">\n",
              "        \n",
              "  <svg xmlns=\"http://www.w3.org/2000/svg\" height=\"24px\"viewBox=\"0 0 24 24\"\n",
              "       width=\"24px\">\n",
              "    <path d=\"M0 0h24v24H0V0z\" fill=\"none\"/>\n",
              "    <path d=\"M18.56 5.44l.94 2.06.94-2.06 2.06-.94-2.06-.94-.94-2.06-.94 2.06-2.06.94zm-11 1L8.5 8.5l.94-2.06 2.06-.94-2.06-.94L8.5 2.5l-.94 2.06-2.06.94zm10 10l.94 2.06.94-2.06 2.06-.94-2.06-.94-.94-2.06-.94 2.06-2.06.94z\"/><path d=\"M17.41 7.96l-1.37-1.37c-.4-.4-.92-.59-1.43-.59-.52 0-1.04.2-1.43.59L10.3 9.45l-7.72 7.72c-.78.78-.78 2.05 0 2.83L4 21.41c.39.39.9.59 1.41.59.51 0 1.02-.2 1.41-.59l7.78-7.78 2.81-2.81c.8-.78.8-2.07 0-2.86zM5.41 20L4 18.59l7.72-7.72 1.47 1.35L5.41 20z\"/>\n",
              "  </svg>\n",
              "      </button>\n",
              "      \n",
              "  <style>\n",
              "    .colab-df-container {\n",
              "      display:flex;\n",
              "      flex-wrap:wrap;\n",
              "      gap: 12px;\n",
              "    }\n",
              "\n",
              "    .colab-df-convert {\n",
              "      background-color: #E8F0FE;\n",
              "      border: none;\n",
              "      border-radius: 50%;\n",
              "      cursor: pointer;\n",
              "      display: none;\n",
              "      fill: #1967D2;\n",
              "      height: 32px;\n",
              "      padding: 0 0 0 0;\n",
              "      width: 32px;\n",
              "    }\n",
              "\n",
              "    .colab-df-convert:hover {\n",
              "      background-color: #E2EBFA;\n",
              "      box-shadow: 0px 1px 2px rgba(60, 64, 67, 0.3), 0px 1px 3px 1px rgba(60, 64, 67, 0.15);\n",
              "      fill: #174EA6;\n",
              "    }\n",
              "\n",
              "    [theme=dark] .colab-df-convert {\n",
              "      background-color: #3B4455;\n",
              "      fill: #D2E3FC;\n",
              "    }\n",
              "\n",
              "    [theme=dark] .colab-df-convert:hover {\n",
              "      background-color: #434B5C;\n",
              "      box-shadow: 0px 1px 3px 1px rgba(0, 0, 0, 0.15);\n",
              "      filter: drop-shadow(0px 1px 2px rgba(0, 0, 0, 0.3));\n",
              "      fill: #FFFFFF;\n",
              "    }\n",
              "  </style>\n",
              "\n",
              "      <script>\n",
              "        const buttonEl =\n",
              "          document.querySelector('#df-ef93ba06-cb13-4659-b7c7-d6ff8050eebc button.colab-df-convert');\n",
              "        buttonEl.style.display =\n",
              "          google.colab.kernel.accessAllowed ? 'block' : 'none';\n",
              "\n",
              "        async function convertToInteractive(key) {\n",
              "          const element = document.querySelector('#df-ef93ba06-cb13-4659-b7c7-d6ff8050eebc');\n",
              "          const dataTable =\n",
              "            await google.colab.kernel.invokeFunction('convertToInteractive',\n",
              "                                                     [key], {});\n",
              "          if (!dataTable) return;\n",
              "\n",
              "          const docLinkHtml = 'Like what you see? Visit the ' +\n",
              "            '<a target=\"_blank\" href=https://colab.research.google.com/notebooks/data_table.ipynb>data table notebook</a>'\n",
              "            + ' to learn more about interactive tables.';\n",
              "          element.innerHTML = '';\n",
              "          dataTable['output_type'] = 'display_data';\n",
              "          await google.colab.output.renderOutput(dataTable, element);\n",
              "          const docLink = document.createElement('div');\n",
              "          docLink.innerHTML = docLinkHtml;\n",
              "          element.appendChild(docLink);\n",
              "        }\n",
              "      </script>\n",
              "    </div>\n",
              "  </div>\n",
              "  "
            ]
          },
          "metadata": {},
          "execution_count": 36
        }
      ]
    },
    {
      "cell_type": "code",
      "source": [
        "X_deney = df_exp.iloc[:,:7]  #features \n",
        "y_deney = df_exp.iloc[:,7]   #target\n",
        "X_deney.head()"
      ],
      "metadata": {
        "id": "fsHrmLFCB3Y3",
        "colab": {
          "base_uri": "https://localhost:8080/"
        },
        "outputId": "683363af-2dea-4316-dd2a-0c7a21a4bd5b"
      },
      "execution_count": null,
      "outputs": [
        {
          "output_type": "execute_result",
          "data": {
            "text/plain": [
              "   Cement  FlyAsh  Water  Superplasticizer  CoarseAggregate  FineAggregate  \\\n",
              "0     380       0    228                 0              932            670   \n",
              "1     380       0    228                 0              932            670   \n",
              "2     380       0    228                 0              932            670   \n",
              "3     500       0    200                 3             1120            613   \n",
              "4     500       0    200                 3             1120            613   \n",
              "\n",
              "   Age  \n",
              "0    7  \n",
              "1   14  \n",
              "2   28  \n",
              "3    7  \n",
              "4   14  "
            ],
            "text/html": [
              "\n",
              "  <div id=\"df-a8783294-7671-48d7-bbe7-f5b3d411d51d\">\n",
              "    <div class=\"colab-df-container\">\n",
              "      <div>\n",
              "<style scoped>\n",
              "    .dataframe tbody tr th:only-of-type {\n",
              "        vertical-align: middle;\n",
              "    }\n",
              "\n",
              "    .dataframe tbody tr th {\n",
              "        vertical-align: top;\n",
              "    }\n",
              "\n",
              "    .dataframe thead th {\n",
              "        text-align: right;\n",
              "    }\n",
              "</style>\n",
              "<table border=\"1\" class=\"dataframe\">\n",
              "  <thead>\n",
              "    <tr style=\"text-align: right;\">\n",
              "      <th></th>\n",
              "      <th>Cement</th>\n",
              "      <th>FlyAsh</th>\n",
              "      <th>Water</th>\n",
              "      <th>Superplasticizer</th>\n",
              "      <th>CoarseAggregate</th>\n",
              "      <th>FineAggregate</th>\n",
              "      <th>Age</th>\n",
              "    </tr>\n",
              "  </thead>\n",
              "  <tbody>\n",
              "    <tr>\n",
              "      <th>0</th>\n",
              "      <td>380</td>\n",
              "      <td>0</td>\n",
              "      <td>228</td>\n",
              "      <td>0</td>\n",
              "      <td>932</td>\n",
              "      <td>670</td>\n",
              "      <td>7</td>\n",
              "    </tr>\n",
              "    <tr>\n",
              "      <th>1</th>\n",
              "      <td>380</td>\n",
              "      <td>0</td>\n",
              "      <td>228</td>\n",
              "      <td>0</td>\n",
              "      <td>932</td>\n",
              "      <td>670</td>\n",
              "      <td>14</td>\n",
              "    </tr>\n",
              "    <tr>\n",
              "      <th>2</th>\n",
              "      <td>380</td>\n",
              "      <td>0</td>\n",
              "      <td>228</td>\n",
              "      <td>0</td>\n",
              "      <td>932</td>\n",
              "      <td>670</td>\n",
              "      <td>28</td>\n",
              "    </tr>\n",
              "    <tr>\n",
              "      <th>3</th>\n",
              "      <td>500</td>\n",
              "      <td>0</td>\n",
              "      <td>200</td>\n",
              "      <td>3</td>\n",
              "      <td>1120</td>\n",
              "      <td>613</td>\n",
              "      <td>7</td>\n",
              "    </tr>\n",
              "    <tr>\n",
              "      <th>4</th>\n",
              "      <td>500</td>\n",
              "      <td>0</td>\n",
              "      <td>200</td>\n",
              "      <td>3</td>\n",
              "      <td>1120</td>\n",
              "      <td>613</td>\n",
              "      <td>14</td>\n",
              "    </tr>\n",
              "  </tbody>\n",
              "</table>\n",
              "</div>\n",
              "      <button class=\"colab-df-convert\" onclick=\"convertToInteractive('df-a8783294-7671-48d7-bbe7-f5b3d411d51d')\"\n",
              "              title=\"Convert this dataframe to an interactive table.\"\n",
              "              style=\"display:none;\">\n",
              "        \n",
              "  <svg xmlns=\"http://www.w3.org/2000/svg\" height=\"24px\"viewBox=\"0 0 24 24\"\n",
              "       width=\"24px\">\n",
              "    <path d=\"M0 0h24v24H0V0z\" fill=\"none\"/>\n",
              "    <path d=\"M18.56 5.44l.94 2.06.94-2.06 2.06-.94-2.06-.94-.94-2.06-.94 2.06-2.06.94zm-11 1L8.5 8.5l.94-2.06 2.06-.94-2.06-.94L8.5 2.5l-.94 2.06-2.06.94zm10 10l.94 2.06.94-2.06 2.06-.94-2.06-.94-.94-2.06-.94 2.06-2.06.94z\"/><path d=\"M17.41 7.96l-1.37-1.37c-.4-.4-.92-.59-1.43-.59-.52 0-1.04.2-1.43.59L10.3 9.45l-7.72 7.72c-.78.78-.78 2.05 0 2.83L4 21.41c.39.39.9.59 1.41.59.51 0 1.02-.2 1.41-.59l7.78-7.78 2.81-2.81c.8-.78.8-2.07 0-2.86zM5.41 20L4 18.59l7.72-7.72 1.47 1.35L5.41 20z\"/>\n",
              "  </svg>\n",
              "      </button>\n",
              "      \n",
              "  <style>\n",
              "    .colab-df-container {\n",
              "      display:flex;\n",
              "      flex-wrap:wrap;\n",
              "      gap: 12px;\n",
              "    }\n",
              "\n",
              "    .colab-df-convert {\n",
              "      background-color: #E8F0FE;\n",
              "      border: none;\n",
              "      border-radius: 50%;\n",
              "      cursor: pointer;\n",
              "      display: none;\n",
              "      fill: #1967D2;\n",
              "      height: 32px;\n",
              "      padding: 0 0 0 0;\n",
              "      width: 32px;\n",
              "    }\n",
              "\n",
              "    .colab-df-convert:hover {\n",
              "      background-color: #E2EBFA;\n",
              "      box-shadow: 0px 1px 2px rgba(60, 64, 67, 0.3), 0px 1px 3px 1px rgba(60, 64, 67, 0.15);\n",
              "      fill: #174EA6;\n",
              "    }\n",
              "\n",
              "    [theme=dark] .colab-df-convert {\n",
              "      background-color: #3B4455;\n",
              "      fill: #D2E3FC;\n",
              "    }\n",
              "\n",
              "    [theme=dark] .colab-df-convert:hover {\n",
              "      background-color: #434B5C;\n",
              "      box-shadow: 0px 1px 3px 1px rgba(0, 0, 0, 0.15);\n",
              "      filter: drop-shadow(0px 1px 2px rgba(0, 0, 0, 0.3));\n",
              "      fill: #FFFFFF;\n",
              "    }\n",
              "  </style>\n",
              "\n",
              "      <script>\n",
              "        const buttonEl =\n",
              "          document.querySelector('#df-a8783294-7671-48d7-bbe7-f5b3d411d51d button.colab-df-convert');\n",
              "        buttonEl.style.display =\n",
              "          google.colab.kernel.accessAllowed ? 'block' : 'none';\n",
              "\n",
              "        async function convertToInteractive(key) {\n",
              "          const element = document.querySelector('#df-a8783294-7671-48d7-bbe7-f5b3d411d51d');\n",
              "          const dataTable =\n",
              "            await google.colab.kernel.invokeFunction('convertToInteractive',\n",
              "                                                     [key], {});\n",
              "          if (!dataTable) return;\n",
              "\n",
              "          const docLinkHtml = 'Like what you see? Visit the ' +\n",
              "            '<a target=\"_blank\" href=https://colab.research.google.com/notebooks/data_table.ipynb>data table notebook</a>'\n",
              "            + ' to learn more about interactive tables.';\n",
              "          element.innerHTML = '';\n",
              "          dataTable['output_type'] = 'display_data';\n",
              "          await google.colab.output.renderOutput(dataTable, element);\n",
              "          const docLink = document.createElement('div');\n",
              "          docLink.innerHTML = docLinkHtml;\n",
              "          element.appendChild(docLink);\n",
              "        }\n",
              "      </script>\n",
              "    </div>\n",
              "  </div>\n",
              "  "
            ]
          },
          "metadata": {},
          "execution_count": 37
        }
      ]
    },
    {
      "cell_type": "code",
      "source": [
        "automl.model.estimator"
      ],
      "metadata": {
        "id": "-auGGCk-HYaD",
        "colab": {
          "base_uri": "https://localhost:8080/"
        },
        "outputId": "e92ba317-cbb9-4574-c9b4-26c0eefcf76a"
      },
      "execution_count": null,
      "outputs": [
        {
          "output_type": "execute_result",
          "data": {
            "text/plain": [
              "XGBRegressor(colsample_bylevel=1.0, colsample_bytree=0.8826299329274134,\n",
              "             learning_rate=0.0010837437950202355, max_depth=11,\n",
              "             min_child_weight=6.468007279782032, n_estimators=19722, n_jobs=-1,\n",
              "             reg_alpha=0.23887161121959208, reg_lambda=15.163773888208217,\n",
              "             subsample=0.49509562408032115, use_label_encoder=False,\n",
              "             verbosity=0)"
            ]
          },
          "metadata": {},
          "execution_count": 38
        }
      ]
    },
    {
      "cell_type": "code",
      "source": [
        "predictions = rf_tuned.predict(X_deney)\n",
        "\n",
        "mae, mse, r2 = evaluate(y_deney, predictions)\n",
        "\n",
        "print(\"MAE:\", mae)\n",
        "print(\"MSE:\", mse)\n",
        "print(\"r2 Score:\", r2)"
      ],
      "metadata": {
        "id": "vUZjqtt-U3AX",
        "colab": {
          "base_uri": "https://localhost:8080/"
        },
        "outputId": "1f76a7c5-d45e-4222-8a43-1b6012f61059"
      },
      "execution_count": null,
      "outputs": [
        {
          "output_type": "stream",
          "name": "stdout",
          "text": [
            "MAE: 19.68726142857142\n",
            "MSE: 483.8667589294048\n",
            "r2 Score: -4.264860217600572\n"
          ]
        }
      ]
    },
    {
      "cell_type": "code",
      "source": [
        "predictions = automl.predict(X_deney)\n",
        "mae, mse, r2 = evaluate(y_deney, predictions)\n",
        "print(\"MAE:\", mae)\n",
        "print(\"MSE:\", mse)\n",
        "print(\"r2 Score:\", r2)"
      ],
      "metadata": {
        "id": "ZTVVIcELFzPN",
        "colab": {
          "base_uri": "https://localhost:8080/"
        },
        "outputId": "b55f635a-77dc-4eb9-cfdb-85660952f84f"
      },
      "execution_count": null,
      "outputs": [
        {
          "output_type": "stream",
          "name": "stdout",
          "text": [
            "MAE: 10.462808329264325\n",
            "MSE: 169.9232270411774\n",
            "r2 Score: -0.8489016275365346\n"
          ]
        }
      ]
    }
  ]
}